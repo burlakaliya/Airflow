{
 "cells": [
  {
   "cell_type": "code",
   "execution_count": 2,
   "id": "579b9008",
   "metadata": {},
   "outputs": [],
   "source": [
    "import pandas as pd\n",
    "import numpy  as np\n",
    "from datetime import datetime\n",
    "from datetime import timedelta\n",
    "from io import StringIO\n",
    "\n",
    "from airflow.decorators import dag, task\n",
    "from airflow.operators.python import get_current_context\n",
    "from airflow.models import Variable"
   ]
  },
  {
   "cell_type": "code",
   "execution_count": 3,
   "id": "06852017",
   "metadata": {},
   "outputs": [],
   "source": [
    "link = 'https://kc-course-static.hb.ru-msk.vkcs.cloud/startda/Video%20Game%20Sales.csv'\n",
    "YEAR = 1994 + hash(f'l-bu') % 23"
   ]
  },
  {
   "cell_type": "code",
   "execution_count": 4,
   "id": "b3fef1e4",
   "metadata": {},
   "outputs": [],
   "source": [
    "default_args = {\n",
    "    'owner': 'l-bu', \n",
    "    'depends_on_past': False,\n",
    "    'retries': 3,\n",
    "    'retry_delay': timedelta(minutes=20), \n",
    "    'start_date': datetime(2024, 10, 10), \n",
    "}\n",
    "\n",
    "#названия колонк из дата-сета \n",
    "columns = ['Rank',\n",
    "          'Name',\n",
    "          'Platform', \n",
    "          'Year', \n",
    "          'Genre', \n",
    "          'Publisher', \n",
    "          'NA_Sales', 'EU_Sales', 'JP_Sales', 'Other_Sales', 'Global_Sales']"
   ]
  },
  {
   "cell_type": "code",
   "execution_count": 5,
   "id": "e7f438bd",
   "metadata": {},
   "outputs": [
    {
     "data": {
      "text/html": [
       "<pre style=\"white-space:pre;overflow-x:auto;line-height:normal;font-family:Menlo,'DejaVu Sans Mono',consolas,'Courier New',monospace\"><span style=\"color: #808000; text-decoration-color: #808000; font-weight: bold\">/var/folders/jq/xsrks5ps78jbmh4p6prf04qw0000gn/T/ipykernel_89887/891811648.py:</span><span style=\"color: #808000; text-decoration-color: #808000; font-weight: bold\">71</span><span style=\"color: #808000; text-decoration-color: #808000; font-weight: bold\"> RemovedInAirflow3Warning</span><span style=\"color: #808000; text-decoration-color: #808000\">: Param `schedule_interval` is deprecated and will be removed in a future release. Please use `schedule` instead.</span>\n",
       "</pre>\n"
      ],
      "text/plain": [
       "\u001b[1;33m/var/folders/jq/xsrks5ps78jbmh4p6prf04qw0000gn/T/ipykernel_89887/\u001b[0m\u001b[1;33m891811648.py\u001b[0m\u001b[1;33m:\u001b[0m\u001b[1;33m71\u001b[0m\u001b[1;33m RemovedInAirflow3Warning\u001b[0m\u001b[33m: Param `schedule_interval` is deprecated and will be removed in a future release. Please use `schedule` instead.\u001b[0m\n"
      ]
     },
     "metadata": {},
     "output_type": "display_data"
    }
   ],
   "source": [
    "@dag(default_args=default_args, catchup=False, schedule_interval='30 10 * * *')\n",
    "def game_analysis():\n",
    "    @task()\n",
    "    def get_data(): # считываем файл и определяем год\n",
    "        games_sales = pd.read_csv(link)\n",
    "        games_sales = games_sales[games_sales['Year']==YEAR].reset_index()\n",
    "        return games_sales\n",
    "    @task() \n",
    "    def get_best_game_global(games_sales): # самая продаваемая игра в мире\n",
    "        best_game = (games_sales\n",
    "                            .groupby('Name', as_index=False)\n",
    "                            .agg({'Global_Sales': 'sum'})\n",
    "                            .sort_values('Global_Sales', ascending=False).head(1))\n",
    "        best_game = best_game['Name'].to_string(index=False)\n",
    "        return best_game\n",
    "    @task()\n",
    "    def get_best_genre_EU(games_sales): # самые продаваемые жанры игр в Европе\n",
    "        best_genre_EU = (games_sales\n",
    "                            .groupby('Genre', as_index=False)\n",
    "                            .agg({'EU_Sales': 'sum'})\n",
    "                            .sort_values('EU_Sales', ascending=False))\n",
    "        return best_genre_EU['Genre'].to_csv(index=False, header=False)\n",
    "    @task()\n",
    "    def get_best_platform_NA(games_sales): # на каких платформах было продано больше всего игр в Северной Америке\n",
    "        best_platform_NA = (games_sales\n",
    "                            .query('NA_Sales >= 0.01')\n",
    "                            .groupby('Platform', as_index=False)\n",
    "                            .agg({'Name': 'count'})\n",
    "                            .sort_values('Name', ascending=False).head(5))\n",
    "        return best_platform_NA['Platform'].to_csv(index=False, header=False)\n",
    "    @task()\n",
    "    def get_best_publisher_JP(games_sales): # издатели с самыми высокими средними продажами в Японии\n",
    "        best_publisher_JP = (games_sales\n",
    "                             .groupby('Publisher', as_index=False)             \n",
    "                             .agg({'JP_Sales': 'mean'})             \n",
    "                             .sort_values('JP_Sales', ascending=False).head(5))\n",
    "        return best_publisher_JP['Publisher'].to_csv(index=False, header=False)\n",
    "    @task()\n",
    "    def get_count_games_EU_JP(games_sales): # кол-во игр, которые лучше продались в Европе, чем в Японии\n",
    "        games_sales_EU_JP = (games_sales\n",
    "                             .groupby('Name', as_index=False)             \n",
    "                             .agg({'EU_Sales': 'sum', 'JP_Sales': 'sum'}))\n",
    "        count_games = games_sales_EU_JP.loc[games_sales_EU_JP['EU_Sales'] > games_sales_EU_JP['JP_Sales']].shape[0]\n",
    "        return count_games\n",
    "    @task()\n",
    "    def print_data(best_game, best_genre_EU, best_platform_NA, best_publisher_JP, count_games):\n",
    "\n",
    "        print(\n",
    "f'''Дата отчета - {YEAR}\n",
    "\n",
    "Самая продаваемая игра в мире - {best_game}\n",
    "\n",
    "Самые продаваемые жанры в Европе - {best_genre_EU}\n",
    "\n",
    "Топ-5 платформ с большим кол-вом игр, проданные в Северной Америке - {best_platform_NA}\n",
    "\n",
    "Топ-5 издателей с высокими средними продажами игр в Японии - {best_publisher_JP}\n",
    "\n",
    "{count_games} игр продались лучше в Европе, чем в Японии\n",
    "''')\n",
    "\n",
    "    games_sales = get_data()    \n",
    "    best_game = get_best_game_global(games_sales)\n",
    "    best_genre_EU = get_best_genre_EU(games_sales)\n",
    "    best_platform_NA = get_best_platform_NA(games_sales)\n",
    "    best_publisher_JP = get_best_publisher_JP(games_sales)\n",
    "    count_games = get_count_games_EU_JP(games_sales)\n",
    "\n",
    "    print_data(best_game, best_genre_EU, best_platform_NA, best_publisher_JP, count_games)\n",
    "\n",
    "game_analysis = game_analysis()"
   ]
  }
 ],
 "metadata": {
  "kernelspec": {
   "display_name": "Python 3 (ipykernel)",
   "language": "python",
   "name": "python3"
  },
  "language_info": {
   "codemirror_mode": {
    "name": "ipython",
    "version": 3
   },
   "file_extension": ".py",
   "mimetype": "text/x-python",
   "name": "python",
   "nbconvert_exporter": "python",
   "pygments_lexer": "ipython3",
   "version": "3.11.0"
  }
 },
 "nbformat": 4,
 "nbformat_minor": 5
}
